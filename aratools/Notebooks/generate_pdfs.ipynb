{
 "cells": [
  {
   "attachments": {},
   "cell_type": "markdown",
   "id": "8e7993ea-8bf1-46f6-977c-6fbc3df48cab",
   "metadata": {},
   "source": [
    "# Example run\n",
    "\n",
    "Run the cell below to generate some pdfs from example data"
   ]
  },
  {
   "cell_type": "code",
   "execution_count": null,
   "id": "bda437fa-e608-43d7-9dd9-711a530baa75",
   "metadata": {},
   "outputs": [
    {
     "name": "stdout",
     "output_type": "stream",
     "text": [
      "hallo\n"
     ]
    }
   ],
   "source": [
    "from aratools.parcour import Parcour\n",
    "from pathlib import Path\n",
    "\n",
    "EXAMPLE_DATA = Path().home() / 'example_data'\n",
    "example_parcour = Parcour(EXAMPLE_DATA)\n",
    "EXAMPLE_OUTPUT = Path().home() / 'example_output'\n",
    "EXAMPLE_OUTPUT.mkdir(exist_ok=True)\n",
    "example_parcour.generate_ponskaart_pdfs(EXAMPLE_OUTPUT)"
   ]
  },
  {
   "attachments": {},
   "cell_type": "markdown",
   "id": "2baa267a",
   "metadata": {},
   "source": [
    "# Making your own PDFS\n",
    "\n",
    "- Upload your csv files for the etappes and a csv file with the team names into the `input_csvs` folder.\n",
    "- Make sure your CSV files are in the format specified in the README\n",
    "- Run the cell below to generate ponskaart pdfs (one per etappe) in the `output_pdfs` folder\n",
    "- Download the pdfs from the `output_pdfs` folder\n"
   ]
  },
  {
   "cell_type": "code",
   "execution_count": null,
   "id": "b5de9cc8",
   "metadata": {},
   "outputs": [],
   "source": [
    "INPUT_DATA = Path().home() / 'input_csvs'\n",
    "parcour = Parcour(INPUT_DATA)\n",
    "OUTPUT = Path().home() / 'output_pdfs'\n",
    "OUTPUT.mkdir(exist_ok=True)\n",
    "parcour.generate_ponskaart_pdfs(OUTPUT)"
   ]
  }
 ],
 "metadata": {
  "kernelspec": {
   "display_name": "ara-tools",
   "language": "python",
   "name": "python3"
  },
  "language_info": {
   "codemirror_mode": {
    "name": "ipython",
    "version": 3
   },
   "file_extension": ".py",
   "mimetype": "text/x-python",
   "name": "python",
   "nbconvert_exporter": "python",
   "pygments_lexer": "ipython3",
   "version": "3.11.1"
  },
  "vscode": {
   "interpreter": {
    "hash": "f76da31e2daf5210cb11b53f7bf5bd7d5fc40cee80694571d2c37b261400f6f5"
   }
  }
 },
 "nbformat": 4,
 "nbformat_minor": 5
}
