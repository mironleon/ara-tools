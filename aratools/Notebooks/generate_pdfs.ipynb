{
 "cells": [
  {
   "attachments": {},
   "cell_type": "markdown",
   "id": "8e7993ea-8bf1-46f6-977c-6fbc3df48cab",
   "metadata": {},
   "source": [
    "# Example run\n",
    "\n",
    "Run the cell below to generate some pdfs from example data"
   ]
  },
  {
   "cell_type": "code",
   "execution_count": null,
   "id": "bda437fa-e608-43d7-9dd9-711a530baa75",
   "metadata": {},
   "outputs": [
    {
     "name": "stdout",
     "output_type": "stream",
     "text": [
      "hallo\n"
     ]
    }
   ],
   "source": [
    "from aratools.parcour import Parcour\n",
    "from pathlib import Path\n",
    "\n",
    "example_parcour = Parcour('/tmp/aratools/tests/example_data')\n",
    "print(example_parcour.etappes)\n",
    "outputdir = Path().home() / 'pdfs'\n",
    "outputdir.mkdir(exist_ok=True)\n",
    "example_parcour.generate_ponskaart_pdfs(outputdir)"
   ]
  }
 ],
 "metadata": {
  "kernelspec": {
   "display_name": "Python 3 (ipykernel)",
   "language": "python",
   "name": "python3"
  },
  "language_info": {
   "codemirror_mode": {
    "name": "ipython",
    "version": 3
   },
   "file_extension": ".py",
   "mimetype": "text/x-python",
   "name": "python",
   "nbconvert_exporter": "python",
   "pygments_lexer": "ipython3",
   "version": "3.11.1"
  }
 },
 "nbformat": 4,
 "nbformat_minor": 5
}
