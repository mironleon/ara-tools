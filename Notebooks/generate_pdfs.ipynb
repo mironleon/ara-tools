{
 "cells": [
  {
   "cell_type": "code",
   "execution_count": 1,
   "id": "8e7993ea-8bf1-46f6-977c-6fbc3df48cab",
   "metadata": {},
   "outputs": [],
   "source": [
    "import aratools"
   ]
  },
  {
   "cell_type": "code",
   "execution_count": 2,
   "id": "bda437fa-e608-43d7-9dd9-711a530baa75",
   "metadata": {},
   "outputs": [
    {
     "name": "stdout",
     "output_type": "stream",
     "text": [
      "hallo\n"
     ]
    }
   ],
   "source": [
    "print('hallo')"
   ]
  },
  {
   "cell_type": "code",
   "execution_count": null,
   "id": "9df796ab-e5f6-49be-943b-28f5f2740ab2",
   "metadata": {},
   "outputs": [],
   "source": []
  }
 ],
 "metadata": {
  "kernelspec": {
   "display_name": "Python 3 (ipykernel)",
   "language": "python",
   "name": "python3"
  },
  "language_info": {
   "codemirror_mode": {
    "name": "ipython",
    "version": 3
   },
   "file_extension": ".py",
   "mimetype": "text/x-python",
   "name": "python",
   "nbconvert_exporter": "python",
   "pygments_lexer": "ipython3",
   "version": "3.11.1"
  }
 },
 "nbformat": 4,
 "nbformat_minor": 5
}
