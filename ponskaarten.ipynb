{
 "cells": [
  {
   "cell_type": "code",
   "execution_count": 1,
   "id": "8df55fba-f6bf-4786-a435-c8c0b2613ae0",
   "metadata": {},
   "outputs": [],
   "source": [
    "# input required\n",
    "# 1. list of team names: (csv or txt?) index and name\n",
    "# 2. list of etappes: index, , type (kano/fietsen)\n",
    "# 3. list of checkpoints: index, amount of points, hint, coordinate (space separated RD coordinate)"
   ]
  },
  {
   "cell_type": "code",
   "execution_count": null,
   "id": "31bbd6d3-5338-4096-9950-9fe2d49af991",
   "metadata": {},
   "outputs": [],
   "source": []
  }
 ],
 "metadata": {
  "kernelspec": {
   "display_name": "Python 3 (ipykernel)",
   "language": "python",
   "name": "python3"
  },
  "language_info": {
   "codemirror_mode": {
    "name": "ipython",
    "version": 3
   },
   "file_extension": ".py",
   "mimetype": "text/x-python",
   "name": "python",
   "nbconvert_exporter": "python",
   "pygments_lexer": "ipython3",
   "version": "3.11.1"
  }
 },
 "nbformat": 4,
 "nbformat_minor": 5
}
